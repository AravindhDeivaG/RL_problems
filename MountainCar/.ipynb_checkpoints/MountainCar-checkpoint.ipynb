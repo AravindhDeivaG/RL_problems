{
 "cells": [
  {
   "cell_type": "code",
   "execution_count": 1,
   "id": "3b9e7383",
   "metadata": {},
   "outputs": [],
   "source": [
    "import gymnasium as gym\n",
    "import numpy as np\n",
    "\n",
    "from ipywidgets import IntProgress, HTML, VBox\n",
    "from IPython.display import display\n",
    "\n",
    "import pygetwindow as gw\n",
    "import cv2 as cv\n",
    "import mss\n",
    "\n",
    "import time as time"
   ]
  },
  {
   "cell_type": "code",
   "execution_count": 2,
   "id": "68040c3b",
   "metadata": {},
   "outputs": [],
   "source": [
    "# Tile coding\n",
    "\n",
    "lb = np.array([-1.2,-0.07])\n",
    "ub = np.array([0.6,0.07])\n",
    "\n",
    "n = np.array([8,8])\n",
    "\n",
    "tile = (ub-lb)/n\n",
    "\n",
    "def tile2D(state,n_offset=4,offset_factor=0.25):\n",
    "    x_t = np.zeros(np.hstack([n_offset,n]))\n",
    "    for i in range(n_offset):\n",
    "        offset = (i-(n_offset-1)/2)*tile*offset_factor\n",
    "        n_i = np.floor((state-offset-lb)/tile)\n",
    "        n_i = np.int32(n_i)\n",
    "        if np.prod((n_i>=0)*(n_i<n)):\n",
    "            x_t[i,n_i[0],n_i[1]] = 1\n",
    "    return x_t.reshape(-1)"
   ]
  },
  {
   "cell_type": "code",
   "execution_count": 3,
   "id": "65f920e5",
   "metadata": {},
   "outputs": [],
   "source": [
    "def epsilon_greedy(state,eps=0.1):\n",
    "    x_t = tile2D(state)\n",
    "    q_pi = np.dot(W.T,x_t)\n",
    "    #print(q_pi)\n",
    "    if(np.random.rand()<eps):\n",
    "        action = np.random.randint(3)\n",
    "    else:\n",
    "        max = np.max(q_pi)\n",
    "        action = np.arange(0,3)[q_pi==max]\n",
    "        action = action[np.random.randint(np.size(action))]\n",
    "    return(action)\n",
    "\n",
    "\n",
    "def action_value_approx(state,action):\n",
    "    return np.dot(W[:,action],tile2D(state))"
   ]
  },
  {
   "cell_type": "code",
   "execution_count": 4,
   "id": "96f3dbb5",
   "metadata": {},
   "outputs": [],
   "source": [
    "#env = gym.make(\"MountainCar-v0\",render_mode=\"human\")\n",
    "env = gym.make(\"MountainCar-v0\")\n",
    "W = np.zeros([np.size(tile2D([0,0])),3])"
   ]
  },
  {
   "cell_type": "code",
   "execution_count": 5,
   "id": "e32adb59",
   "metadata": {},
   "outputs": [
    {
     "data": {
      "application/vnd.jupyter.widget-view+json": {
       "model_id": "36d948b91cff42dea8fc00ef9d840f05",
       "version_major": 2,
       "version_minor": 0
      },
      "text/plain": [
       "VBox(children=(HTML(value='Starting...'), IntProgress(value=0, max=500)))"
      ]
     },
     "metadata": {},
     "output_type": "display_data"
    }
   ],
   "source": [
    "iters = 500\n",
    "progress = IntProgress(value=0, min=0, max=iters)\n",
    "label = HTML(value=\"Starting...\")\n",
    "box = VBox([label, progress])\n",
    "display(box)\n",
    "\n",
    "\n",
    "gamma = 0.9\n",
    "alpha = 1e-2\n",
    "actions = [0,1,2]\n",
    "\n",
    "for i in range(iters):\n",
    "    episode_over = False\n",
    "    \n",
    "    state1, info = env.reset()\n",
    "    action1 = epsilon_greedy(state1)\n",
    "    \n",
    "    while not episode_over:\n",
    "        state2, reward, terminated, truncated, info = env.step(action1)\n",
    "        action2 = epsilon_greedy(state2)\n",
    "        #print(state1,action1,state2,action2)\n",
    "        W[:,action1] = W[:,action1] + alpha*(reward+gamma*action_value_approx(state2,action2) - action_value_approx(state1,action1))*tile2D(state1)\n",
    "        episode_over = terminated\n",
    "        state1 = state2\n",
    "        action1 = action2\n",
    "        \n",
    "    progress.value = i+1\n",
    "    label.value = f\"Progress: {i+1}\""
   ]
  },
  {
   "cell_type": "code",
   "execution_count": 6,
   "id": "8ea20650",
   "metadata": {},
   "outputs": [
    {
     "name": "stdout",
     "output_type": "stream",
     "text": [
      "Recording saved as mountainCar.mp4\n"
     ]
    }
   ],
   "source": [
    "# Saving file to .mp4 file\n",
    "\n",
    "\n",
    "env = gym.make(\"MountainCar-v0\",render_mode=\"human\")\n",
    "state, info = env.reset()\n",
    "time.sleep(1)\n",
    "\n",
    "# Configuration\n",
    "output_file = \"mountainCar.mp4\"\n",
    "fps = 30  # Frames per second\n",
    "\n",
    "for window in gw.getWindowsWithTitle(\"pygame window\"):\n",
    "    pygame_window = window\n",
    "    break\n",
    "\n",
    "bbox = {\n",
    "    \"top\": pygame_window.top,\n",
    "    \"left\": pygame_window.left,\n",
    "    \"width\": pygame_window.width,\n",
    "    \"height\": pygame_window.height,\n",
    "}\n",
    "\n",
    "# Setup video writer\n",
    "fourcc = cv.VideoWriter_fourcc(*\"mp4v\")  # MP4 codec\n",
    "out = cv.VideoWriter(output_file, fourcc, fps, (bbox[\"width\"], bbox[\"height\"]))\n",
    "\n",
    "# Run RL agent\n",
    "with mss.mss() as sct:\n",
    "    episode_over = False\n",
    "    while not episode_over:\n",
    "        action = epsilon_greedy(state,0)\n",
    "        state, reward, terminated, truncated, info = env.step(action)\n",
    "        episode_over = terminated\n",
    "\n",
    "        # Capture the screen\n",
    "        img = np.array(sct.grab(bbox))\n",
    "        frame = cv.cvtColor(img, cv.COLOR_BGRA2BGR)\n",
    "        out.write(frame)\n",
    "\n",
    "# Release resources\n",
    "out.release()\n",
    "cv.destroyAllWindows()\n",
    "print(f\"Recording saved as {output_file}\")\n",
    "\n",
    "time.sleep(1)\n",
    "env.close()"
   ]
  },
  {
   "cell_type": "code",
   "execution_count": null,
   "id": "494d8816",
   "metadata": {},
   "outputs": [],
   "source": []
  }
 ],
 "metadata": {
  "kernelspec": {
   "display_name": "Python 3 (ipykernel)",
   "language": "python",
   "name": "python3"
  },
  "language_info": {
   "codemirror_mode": {
    "name": "ipython",
    "version": 3
   },
   "file_extension": ".py",
   "mimetype": "text/x-python",
   "name": "python",
   "nbconvert_exporter": "python",
   "pygments_lexer": "ipython3",
   "version": "3.9.12"
  }
 },
 "nbformat": 4,
 "nbformat_minor": 5
}
