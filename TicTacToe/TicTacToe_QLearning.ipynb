{
 "cells": [
  {
   "cell_type": "code",
   "execution_count": 1,
   "id": "79830abe",
   "metadata": {},
   "outputs": [],
   "source": [
    "import numpy as np\n",
    "import time\n",
    "from ipywidgets import IntProgress, HTML, VBox\n",
    "from IPython.display import display"
   ]
  },
  {
   "cell_type": "code",
   "execution_count": 2,
   "id": "bb13a57f",
   "metadata": {},
   "outputs": [
    {
     "name": "stdout",
     "output_type": "stream",
     "text": [
      "X | O | O\n",
      "---------\n",
      "O | O | O\n",
      "---------\n",
      "X | X | O\n",
      "\n",
      "\n",
      "\n"
     ]
    }
   ],
   "source": [
    "def drawTicTacToe(state_vector):\n",
    "    '''\n",
    "    Input\n",
    "        state_vector : Vector of 9 elements\n",
    "            eg : [1,2,1,0,2,0,0,1,0] where {0: Empty cell, 1 : X. 2 : O}\n",
    "    output :\n",
    "    \n",
    "        X | O | X\n",
    "        ---------\n",
    "          | O | \n",
    "        ---------\n",
    "          | X |  \n",
    "    '''\n",
    "    symbol = [' ','X','O']\n",
    "    \n",
    "    for i in range(3):\n",
    "        row = [symbol[int(state_vector[3*i+j])] for j in range(3)]\n",
    "        print(' | '.join(row))\n",
    "        if(i!=2):\n",
    "            print('-'*9)\n",
    "        else:\n",
    "            print('\\n\\n')\n",
    "\n",
    "drawTicTacToe([1,2,2,2,2,2,1,1,2])"
   ]
  },
  {
   "cell_type": "code",
   "execution_count": 3,
   "id": "9e5a4df3",
   "metadata": {},
   "outputs": [],
   "source": [
    "def is_terminal_state(state_vector):\n",
    "    '''\n",
    "    Returns if the given state is terminal and it's corresponding reward\n",
    "    Input:\n",
    "        state_vector : state_vector : Vector of 9 elements\n",
    "    Output:\n",
    "        state : int {0 : Non terminal state, 1 : Terminal state draw, 2 : Terminal state win}\n",
    "    '''\n",
    "    state_vector = np.reshape(state_vector,[3,3])\n",
    "    \n",
    "    row = (3 in np.sum(state_vector==1,0)) or (3 in np.sum(state_vector==2,0))\n",
    "    col = (3 in np.sum(state_vector==1,1)) or (3 in np.sum(state_vector==2,1))\n",
    "    diag1 = (np.sum(state_vector*np.eye(3)==1)==3) or (np.sum(state_vector*np.eye(3)==2)==3)\n",
    "    diag2 = (np.sum(state_vector*np.eye(3)[:,::-1]==1)==3) or (np.sum(state_vector*np.eye(3)[:,::-1]==2)==3)\n",
    "    \n",
    "    full = (np.sum(state_vector==0)==0)\n",
    "    \n",
    "    if(row or col or diag1 or diag2):\n",
    "        return 2\n",
    "    elif(full):\n",
    "        return 1\n",
    "    else:\n",
    "        return 0"
   ]
  },
  {
   "cell_type": "code",
   "execution_count": 4,
   "id": "413114c7",
   "metadata": {},
   "outputs": [],
   "source": [
    "def find_turn(state_vector):\n",
    "    x = np.sum(state_vector==1)\n",
    "    o = np.sum(state_vector==2)\n",
    "    if(x>o):\n",
    "        turn = 2\n",
    "    elif(x==o):\n",
    "        turn = 1\n",
    "    return turn"
   ]
  },
  {
   "cell_type": "code",
   "execution_count": 5,
   "id": "4d1487b2",
   "metadata": {},
   "outputs": [
    {
     "name": "stdout",
     "output_type": "stream",
     "text": [
      "O | X | X\n",
      "---------\n",
      "X | X | O\n",
      "---------\n",
      "O | O | X\n",
      "\n",
      "\n",
      "\n",
      "0\n"
     ]
    }
   ],
   "source": [
    "def stateAction(state_vector,action):\n",
    "    '''\n",
    "    Ouputs next state and reward given a state vector and action\n",
    "    \n",
    "    Input\n",
    "        state_vector : Vector of 9 elements\n",
    "            eg : [1,2,1,0,2,0,0,1,0] where {0: Empty cell, 1 : X. 2 : O}\n",
    "        action : Position in which either 'X' or 'O' goes\n",
    "    Output\n",
    "        Next state vector : Vector of 9 elements\n",
    "            eg : [1,2,1,0,2,0,0,1,0] where {0: Empty cell, 1 : X. 2 : O}\n",
    "        reward : real number {+1:win,0:Draw,-1:Loss}\n",
    "    '''\n",
    "    state_vector = np.copy(state_vector)\n",
    "    \n",
    "    # Find turn if 'X' or 'O' should play\n",
    "    if(np.sum(state_vector==1)==np.sum(state_vector==2)): # 'X' turn\n",
    "        turn = 1\n",
    "    elif(np.sum(state_vector==1)>np.sum(state_vector==2)): # 'O' turn\n",
    "        turn = 2\n",
    "    \n",
    "    # Update state transition\n",
    "    if(state_vector[action]>0): # Non empty cell\n",
    "        reward = -1000\n",
    "    else:\n",
    "        state_vector[action] = turn\n",
    "        state = is_terminal_state(state_vector)\n",
    "        if(state==0 or state==1):\n",
    "            reward = 0\n",
    "        elif(state==2):\n",
    "            reward = 1\n",
    "    return(state_vector,reward)\n",
    "\n",
    "state,reward = stateAction(np.array([2,1,1,1,1,2,2,2,0]),8)\n",
    "drawTicTacToe(state)\n",
    "print(reward)"
   ]
  },
  {
   "cell_type": "code",
   "execution_count": 6,
   "id": "152c504f",
   "metadata": {},
   "outputs": [
    {
     "data": {
      "text/plain": [
       "251"
      ]
     },
     "execution_count": 6,
     "metadata": {},
     "output_type": "execute_result"
    }
   ],
   "source": [
    "def state_oneHotEncoding(state_vector):\n",
    "    '''\n",
    "    Takes a state vector as input and outputs a single unique number representing the state vector\n",
    "    Input:\n",
    "        state_vector\n",
    "    Output\n",
    "        state : one hot encoded int\n",
    "    '''\n",
    "    \n",
    "    exp = np.array([3**i for i in range(8,-1,-1)])\n",
    "    state = np.sum(state_vector*exp)\n",
    "    return state\n",
    "\n",
    "state_oneHotEncoding(np.array([0,0,0,1,0,0,0,2,2]))"
   ]
  },
  {
   "cell_type": "code",
   "execution_count": 7,
   "id": "c92b4e4b",
   "metadata": {},
   "outputs": [],
   "source": [
    "class TicTacToe:\n",
    "    \n",
    "    def __init__(self,epsilon=1,alpha=0.1,gamma = 0.9):\n",
    "        self.states = np.array([-1])\n",
    "        self.q_pi = np.zeros(9)\n",
    "        self.epsilon = epsilon\n",
    "        self.alpha = alpha\n",
    "        self.gamma = gamma\n",
    "    \n",
    "    def epsilon_greedy(self,state_vector):\n",
    "        state = state_oneHotEncoding(state_vector)\n",
    "        if(np.sum(self.states==state)==0):\n",
    "            self.states = np.hstack([self.states,state])\n",
    "            self.q_pi = np.vstack([self.q_pi,-1000*(state_vector>0)])\n",
    "            action = np.random.randint(9)\n",
    "        \n",
    "        if(np.random.rand()>self.epsilon): # Exploitation\n",
    "            q_state = self.q_pi[self.states==state][0]\n",
    "            q_max = np.max(q_state)\n",
    "            actions = np.arange(9)[q_state==q_max]\n",
    "            action = actions[np.random.randint(np.size(actions))]\n",
    "        else: # Exploration\n",
    "            actions = np.arange(9)[state_vector==0]\n",
    "            action = actions[np.random.randint(np.size(actions))]\n",
    "        return action\n",
    "    \n",
    "    def sarsa_update(self,state_vector,action,reward,next_state_vector,next_action):\n",
    "        state = state_oneHotEncoding(state_vector)\n",
    "        next_state = state_oneHotEncoding(next_state_vector)\n",
    "        self.q_pi[self.states==state,action] = self.q_pi[self.states==state,action] + self.alpha*(reward + self.gamma*self.q_pi[self.states==next_state,next_action] - self.q_pi[self.states==state,action])\n",
    "        \n",
    "    def gen_episode(self):\n",
    "        '''\n",
    "        Generates an episode of tic tac toe between two agents\n",
    "        '''\n",
    "\n",
    "        state_vector = np.zeros(9)\n",
    "        state = state_oneHotEncoding(state_vector)\n",
    "        action = self.epsilon_greedy(state_vector)\n",
    "        # print(state_vector,state,action)\n",
    "        # drawTicTacToe(state_vector)\n",
    "        \n",
    "        state_vector_1, reward = stateAction(state_vector,action)\n",
    "        state_1 = state_oneHotEncoding(state_vector_1)\n",
    "        action_1 = self.epsilon_greedy(state_vector_1)\n",
    "        # print(state_vector_1,state_1,action_1)\n",
    "        # drawTicTacToe(state_vector_1)\n",
    "\n",
    "        while True:\n",
    "            state_vector_2, reward_1 = stateAction(state_vector_1,action_1)\n",
    "            state_2 = state_oneHotEncoding(state_vector_2)\n",
    "            # print(state_vector_2,state_2)\n",
    "            # drawTicTacToe(state_vector_2)\n",
    "            if(reward_1>0): # Terminal state (win)\n",
    "                # print(1,state,state_1)\n",
    "                reward = -1\n",
    "                self.q_pi[self.states==state,action] = self.q_pi[self.states==state,action] + self.alpha*(reward - self.q_pi[self.states==state,action])\n",
    "                self.q_pi[self.states==state_1,action_1] = self.q_pi[self.states==state_1,action_1] + self.alpha*(reward_1 - self.q_pi[self.states==state_1,action_1])\n",
    "                break\n",
    "            else:\n",
    "                terminal_state = is_terminal_state(state_vector_2)\n",
    "                if(terminal_state==1): # Terminal state (Draw)\n",
    "                    # print(2,state,state_1)\n",
    "                    self.q_pi[self.states==state,action] = self.q_pi[self.states==state,action] + self.alpha*(reward-self.q_pi[self.states==state,action])\n",
    "                    self.q_pi[self.states==state_1,action_1] = self.q_pi[self.states==state_1,action_1] + self.alpha*(reward_1 - self.q_pi[self.states==state_1,action_1])\n",
    "                    break\n",
    "                elif(terminal_state==0): # Non terminal state\n",
    "                    # print(3,state,state_1)\n",
    "                    action_2 = self.epsilon_greedy(state_vector_2)\n",
    "                    self.sarsa_update(state_vector,action,reward,state_vector_2,action_2)\n",
    "                    state_vector = state_vector_1\n",
    "                    action = action_1\n",
    "                    state = state_1\n",
    "                    state_vector_1 = state_vector_2\n",
    "                    action_1 = action_2\n",
    "                    state_1 = state_2\n",
    "\n",
    "        \n",
    "        "
   ]
  },
  {
   "cell_type": "code",
   "execution_count": 8,
   "id": "6b92f645",
   "metadata": {
    "scrolled": false
   },
   "outputs": [
    {
     "data": {
      "application/vnd.jupyter.widget-view+json": {
       "model_id": "002192ed9fe147489e2f6608782d76df",
       "version_major": 2,
       "version_minor": 0
      },
      "text/plain": [
       "VBox(children=(HTML(value='Starting...'), IntProgress(value=0, max=100000)))"
      ]
     },
     "metadata": {},
     "output_type": "display_data"
    }
   ],
   "source": [
    "iters = 100000\n",
    "progress = IntProgress(value=0, min=0, max=iters)\n",
    "label = HTML(value=\"Starting...\")\n",
    "box = VBox([label, progress])\n",
    "display(box)\n",
    "\n",
    "agent = TicTacToe(epsilon=1)\n",
    "for i in range(iters):\n",
    "    agent.gen_episode()\n",
    "    progress.value = i\n",
    "    label.value = f\"Progress: {i} | Number of states visited: {np.size(agent.states)}\""
   ]
  },
  {
   "cell_type": "code",
   "execution_count": 9,
   "id": "7ccedf5c",
   "metadata": {},
   "outputs": [],
   "source": [
    "def play_game(agent):\n",
    "    state_vector = np.zeros(9)\n",
    "    drawTicTacToe(state_vector)\n",
    "    \n",
    "    # Decide who starts first\n",
    "    if(np.random.rand()>0):\n",
    "        while True:\n",
    "            while True:\n",
    "                action = int(input('Enter move : '))\n",
    "                if(state_vector[action]==0):\n",
    "                    break\n",
    "            state_vector,reward = stateAction(state_vector,action)\n",
    "            terminal_state = is_terminal_state(state_vector)\n",
    "            drawTicTacToe(state_vector)\n",
    "            if(terminal_state>0 and reward>0):\n",
    "                print('\\n'+'#'*20+'\\n\\n'+' You won the game :) \\n\\n'+'#'*20)\n",
    "                break\n",
    "            elif(terminal_state>0 and reward==0):\n",
    "                print('\\n'+'#'*20+'\\n\\n'+' You drew the game :| \\n\\n'+'#'*20)\n",
    "                break\n",
    "            state = state_oneHotEncoding(state_vector)\n",
    "            action = np.argmax(agent.q_pi[agent.states==state])\n",
    "            state_vector,reward = stateAction(state_vector,action)\n",
    "            terminal_state = is_terminal_state(state_vector)\n",
    "            drawTicTacToe(state_vector)\n",
    "            if(terminal_state>0 and reward>0):\n",
    "                print('\\n'+'#'*20+'\\n\\n'+' You lost the game :( \\n\\n'+'#'*20)\n",
    "                break\n",
    "            elif(terminal_state>0 and reward==0):\n",
    "                print('\\n'+'#'*20+'\\n\\n'+' You drew the game :| \\n\\n'+'#'*20)\n",
    "                break\n",
    "    else:\n",
    "        while True:\n",
    "            state = state_oneHotEncoding(state_vector)\n",
    "            action = np.argmax(agent.q_pi[agent.states==state])\n",
    "            state_vector,reward = stateAction(state_vector,action)\n",
    "            terminal_state = is_terminal_state(state_vector)\n",
    "            drawTicTacToe(state_vector)\n",
    "            if(terminal_state>0 and reward>0):\n",
    "                print('\\n'+'#'*20+'\\n\\n'+' You lost the game :( \\n\\n'+'#'*20)\n",
    "                break\n",
    "            elif(terminal_state>0 and reward==0):\n",
    "                print('\\n'+'#'*20+'\\n\\n'+' You drew the game :| \\n\\n'+'#'*20)\n",
    "                break\n",
    "            drawTicTacToe(state_vector)\n",
    "            while True:\n",
    "                action = int(input('Enter move : '))\n",
    "                if(state_vector[action]==0):\n",
    "                    break\n",
    "            state_vector,reward = stateAction(state_vector,action)\n",
    "            terminal_state = is_terminal_state(state_vector)\n",
    "            drawTicTacToe(state_vector)\n",
    "            if(terminal_state>0 and reward>0):\n",
    "                print('\\n'+'#'*20+'\\n\\n'+' You won the game :) \\n\\n'+'#'*20)\n",
    "                break\n",
    "            elif(terminal_state>0 and reward==0):\n",
    "                print('\\n'+'#'*20+'\\n\\n'+' You drew the game :| \\n\\n'+'#'*20)\n",
    "                break"
   ]
  },
  {
   "cell_type": "code",
   "execution_count": 20,
   "id": "86f0522d",
   "metadata": {
    "scrolled": false
   },
   "outputs": [
    {
     "name": "stdout",
     "output_type": "stream",
     "text": [
      "  |   |  \n",
      "---------\n",
      "  |   |  \n",
      "---------\n",
      "  |   |  \n",
      "\n",
      "\n",
      "\n",
      "Enter move : 0\n",
      "X |   |  \n",
      "---------\n",
      "  |   |  \n",
      "---------\n",
      "  |   |  \n",
      "\n",
      "\n",
      "\n",
      "X | O |  \n",
      "---------\n",
      "  |   |  \n",
      "---------\n",
      "  |   |  \n",
      "\n",
      "\n",
      "\n",
      "Enter move : 3\n",
      "X | O |  \n",
      "---------\n",
      "X |   |  \n",
      "---------\n",
      "  |   |  \n",
      "\n",
      "\n",
      "\n",
      "X | O |  \n",
      "---------\n",
      "X |   |  \n",
      "---------\n",
      "O |   |  \n",
      "\n",
      "\n",
      "\n"
     ]
    },
    {
     "ename": "KeyboardInterrupt",
     "evalue": "Interrupted by user",
     "output_type": "error",
     "traceback": [
      "\u001b[1;31m---------------------------------------------------------------------------\u001b[0m",
      "\u001b[1;31mKeyboardInterrupt\u001b[0m                         Traceback (most recent call last)",
      "Input \u001b[1;32mIn [20]\u001b[0m, in \u001b[0;36m<cell line: 1>\u001b[1;34m()\u001b[0m\n\u001b[1;32m----> 1\u001b[0m \u001b[43mplay_game\u001b[49m\u001b[43m(\u001b[49m\u001b[43magent\u001b[49m\u001b[43m)\u001b[49m\n",
      "Input \u001b[1;32mIn [9]\u001b[0m, in \u001b[0;36mplay_game\u001b[1;34m(agent)\u001b[0m\n\u001b[0;32m      6\u001b[0m \u001b[38;5;28;01mif\u001b[39;00m(np\u001b[38;5;241m.\u001b[39mrandom\u001b[38;5;241m.\u001b[39mrand()\u001b[38;5;241m>\u001b[39m\u001b[38;5;241m0.5\u001b[39m):\n\u001b[0;32m      7\u001b[0m     \u001b[38;5;28;01mwhile\u001b[39;00m \u001b[38;5;28;01mTrue\u001b[39;00m:\n\u001b[1;32m----> 8\u001b[0m         action \u001b[38;5;241m=\u001b[39m \u001b[38;5;28mint\u001b[39m(\u001b[38;5;28;43minput\u001b[39;49m\u001b[43m(\u001b[49m\u001b[38;5;124;43m'\u001b[39;49m\u001b[38;5;124;43mEnter move : \u001b[39;49m\u001b[38;5;124;43m'\u001b[39;49m\u001b[43m)\u001b[49m)\n\u001b[0;32m      9\u001b[0m         state_vector,reward \u001b[38;5;241m=\u001b[39m stateAction(state_vector,action)\n\u001b[0;32m     10\u001b[0m         terminal_state \u001b[38;5;241m=\u001b[39m is_terminal_state(state_vector)\n",
      "File \u001b[1;32m~\\anaconda3\\lib\\site-packages\\ipykernel\\kernelbase.py:1075\u001b[0m, in \u001b[0;36mKernel.raw_input\u001b[1;34m(self, prompt)\u001b[0m\n\u001b[0;32m   1071\u001b[0m \u001b[38;5;28;01mif\u001b[39;00m \u001b[38;5;129;01mnot\u001b[39;00m \u001b[38;5;28mself\u001b[39m\u001b[38;5;241m.\u001b[39m_allow_stdin:\n\u001b[0;32m   1072\u001b[0m     \u001b[38;5;28;01mraise\u001b[39;00m StdinNotImplementedError(\n\u001b[0;32m   1073\u001b[0m         \u001b[38;5;124m\"\u001b[39m\u001b[38;5;124mraw_input was called, but this frontend does not support input requests.\u001b[39m\u001b[38;5;124m\"\u001b[39m\n\u001b[0;32m   1074\u001b[0m     )\n\u001b[1;32m-> 1075\u001b[0m \u001b[38;5;28;01mreturn\u001b[39;00m \u001b[38;5;28;43mself\u001b[39;49m\u001b[38;5;241;43m.\u001b[39;49m\u001b[43m_input_request\u001b[49m\u001b[43m(\u001b[49m\n\u001b[0;32m   1076\u001b[0m \u001b[43m    \u001b[49m\u001b[38;5;28;43mstr\u001b[39;49m\u001b[43m(\u001b[49m\u001b[43mprompt\u001b[49m\u001b[43m)\u001b[49m\u001b[43m,\u001b[49m\n\u001b[0;32m   1077\u001b[0m \u001b[43m    \u001b[49m\u001b[38;5;28;43mself\u001b[39;49m\u001b[38;5;241;43m.\u001b[39;49m\u001b[43m_parent_ident\u001b[49m\u001b[43m[\u001b[49m\u001b[38;5;124;43m\"\u001b[39;49m\u001b[38;5;124;43mshell\u001b[39;49m\u001b[38;5;124;43m\"\u001b[39;49m\u001b[43m]\u001b[49m\u001b[43m,\u001b[49m\n\u001b[0;32m   1078\u001b[0m \u001b[43m    \u001b[49m\u001b[38;5;28;43mself\u001b[39;49m\u001b[38;5;241;43m.\u001b[39;49m\u001b[43mget_parent\u001b[49m\u001b[43m(\u001b[49m\u001b[38;5;124;43m\"\u001b[39;49m\u001b[38;5;124;43mshell\u001b[39;49m\u001b[38;5;124;43m\"\u001b[39;49m\u001b[43m)\u001b[49m\u001b[43m,\u001b[49m\n\u001b[0;32m   1079\u001b[0m \u001b[43m    \u001b[49m\u001b[43mpassword\u001b[49m\u001b[38;5;241;43m=\u001b[39;49m\u001b[38;5;28;43;01mFalse\u001b[39;49;00m\u001b[43m,\u001b[49m\n\u001b[0;32m   1080\u001b[0m \u001b[43m\u001b[49m\u001b[43m)\u001b[49m\n",
      "File \u001b[1;32m~\\anaconda3\\lib\\site-packages\\ipykernel\\kernelbase.py:1120\u001b[0m, in \u001b[0;36mKernel._input_request\u001b[1;34m(self, prompt, ident, parent, password)\u001b[0m\n\u001b[0;32m   1117\u001b[0m             \u001b[38;5;28;01mbreak\u001b[39;00m\n\u001b[0;32m   1118\u001b[0m \u001b[38;5;28;01mexcept\u001b[39;00m \u001b[38;5;167;01mKeyboardInterrupt\u001b[39;00m:\n\u001b[0;32m   1119\u001b[0m     \u001b[38;5;66;03m# re-raise KeyboardInterrupt, to truncate traceback\u001b[39;00m\n\u001b[1;32m-> 1120\u001b[0m     \u001b[38;5;28;01mraise\u001b[39;00m \u001b[38;5;167;01mKeyboardInterrupt\u001b[39;00m(\u001b[38;5;124m\"\u001b[39m\u001b[38;5;124mInterrupted by user\u001b[39m\u001b[38;5;124m\"\u001b[39m) \u001b[38;5;28;01mfrom\u001b[39;00m \u001b[38;5;28;01mNone\u001b[39;00m\n\u001b[0;32m   1121\u001b[0m \u001b[38;5;28;01mexcept\u001b[39;00m \u001b[38;5;167;01mException\u001b[39;00m:\n\u001b[0;32m   1122\u001b[0m     \u001b[38;5;28mself\u001b[39m\u001b[38;5;241m.\u001b[39mlog\u001b[38;5;241m.\u001b[39mwarning(\u001b[38;5;124m\"\u001b[39m\u001b[38;5;124mInvalid Message:\u001b[39m\u001b[38;5;124m\"\u001b[39m, exc_info\u001b[38;5;241m=\u001b[39m\u001b[38;5;28;01mTrue\u001b[39;00m)\n",
      "\u001b[1;31mKeyboardInterrupt\u001b[0m: Interrupted by user"
     ]
    }
   ],
   "source": [
    "play_game(agent)"
   ]
  },
  {
   "cell_type": "code",
   "execution_count": 12,
   "id": "2831c72f",
   "metadata": {},
   "outputs": [
    {
     "data": {
      "text/plain": [
       "10935"
      ]
     },
     "execution_count": 12,
     "metadata": {},
     "output_type": "execute_result"
    }
   ],
   "source": [
    "state_oneHotEncoding([1,2,0,0,0,0,0,0,0])"
   ]
  },
  {
   "cell_type": "code",
   "execution_count": 13,
   "id": "5d83b86c",
   "metadata": {},
   "outputs": [
    {
     "data": {
      "text/plain": [
       "array([[-1000., -1000.,     0.,     0.,     0.,     0.,     0.,     0.,\n",
       "            0.]])"
      ]
     },
     "execution_count": 13,
     "metadata": {},
     "output_type": "execute_result"
    }
   ],
   "source": [
    "agent.q_pi[agent.states==10935]"
   ]
  },
  {
   "cell_type": "code",
   "execution_count": null,
   "id": "72cca80a",
   "metadata": {},
   "outputs": [],
   "source": []
  }
 ],
 "metadata": {
  "kernelspec": {
   "display_name": "Python 3 (ipykernel)",
   "language": "python",
   "name": "python3"
  },
  "language_info": {
   "codemirror_mode": {
    "name": "ipython",
    "version": 3
   },
   "file_extension": ".py",
   "mimetype": "text/x-python",
   "name": "python",
   "nbconvert_exporter": "python",
   "pygments_lexer": "ipython3",
   "version": "3.9.12"
  }
 },
 "nbformat": 4,
 "nbformat_minor": 5
}
